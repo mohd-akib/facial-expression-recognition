{
 "cells": [
  {
   "cell_type": "code",
   "execution_count": 17,
   "metadata": {},
   "outputs": [],
   "source": [
    "from keras.applications.vgg16 import VGG16\n",
    "from keras.preprocessing import image\n",
    "from keras.applications.vgg16 import preprocess_input\n",
    "from keras.layers import Input, Flatten, Dense\n",
    "from keras.models import Model\n",
    "import numpy as np\n",
    "from keras import layers\n",
    "import pandas as pd\n",
    "from keras.models import load_model"
   ]
  },
  {
   "cell_type": "code",
   "execution_count": 5,
   "metadata": {},
   "outputs": [
    {
     "data": {
      "text/html": [
       "<div>\n",
       "<style scoped>\n",
       "    .dataframe tbody tr th:only-of-type {\n",
       "        vertical-align: middle;\n",
       "    }\n",
       "\n",
       "    .dataframe tbody tr th {\n",
       "        vertical-align: top;\n",
       "    }\n",
       "\n",
       "    .dataframe thead th {\n",
       "        text-align: right;\n",
       "    }\n",
       "</style>\n",
       "<table border=\"1\" class=\"dataframe\">\n",
       "  <thead>\n",
       "    <tr style=\"text-align: right;\">\n",
       "      <th></th>\n",
       "      <th>emotion</th>\n",
       "      <th>pixels</th>\n",
       "      <th>Usage</th>\n",
       "    </tr>\n",
       "  </thead>\n",
       "  <tbody>\n",
       "    <tr>\n",
       "      <th>0</th>\n",
       "      <td>0</td>\n",
       "      <td>70 80 82 72 58 58 60 63 54 58 60 48 89 115 121...</td>\n",
       "      <td>Training</td>\n",
       "    </tr>\n",
       "    <tr>\n",
       "      <th>1</th>\n",
       "      <td>0</td>\n",
       "      <td>151 150 147 155 148 133 111 140 170 174 182 15...</td>\n",
       "      <td>Training</td>\n",
       "    </tr>\n",
       "    <tr>\n",
       "      <th>2</th>\n",
       "      <td>2</td>\n",
       "      <td>231 212 156 164 174 138 161 173 182 200 106 38...</td>\n",
       "      <td>Training</td>\n",
       "    </tr>\n",
       "    <tr>\n",
       "      <th>3</th>\n",
       "      <td>4</td>\n",
       "      <td>24 32 36 30 32 23 19 20 30 41 21 22 32 34 21 1...</td>\n",
       "      <td>Training</td>\n",
       "    </tr>\n",
       "    <tr>\n",
       "      <th>4</th>\n",
       "      <td>6</td>\n",
       "      <td>4 0 0 0 0 0 0 0 0 0 0 0 3 15 23 28 48 50 58 84...</td>\n",
       "      <td>Training</td>\n",
       "    </tr>\n",
       "  </tbody>\n",
       "</table>\n",
       "</div>"
      ],
      "text/plain": [
       "   emotion                                             pixels     Usage\n",
       "0        0  70 80 82 72 58 58 60 63 54 58 60 48 89 115 121...  Training\n",
       "1        0  151 150 147 155 148 133 111 140 170 174 182 15...  Training\n",
       "2        2  231 212 156 164 174 138 161 173 182 200 106 38...  Training\n",
       "3        4  24 32 36 30 32 23 19 20 30 41 21 22 32 34 21 1...  Training\n",
       "4        6  4 0 0 0 0 0 0 0 0 0 0 0 3 15 23 28 48 50 58 84...  Training"
      ]
     },
     "execution_count": 5,
     "metadata": {},
     "output_type": "execute_result"
    }
   ],
   "source": [
    "import pandas as pd\n",
    "df = pd.read_csv(\"/media/akib/New Volume1/project/fer2013/fer2013.csv\")\n",
    "df.head()"
   ]
  },
  {
   "cell_type": "code",
   "execution_count": 6,
   "metadata": {},
   "outputs": [
    {
     "data": {
      "text/plain": [
       "emotion    0\n",
       "pixels     0\n",
       "dtype: int64"
      ]
     },
     "execution_count": 6,
     "metadata": {},
     "output_type": "execute_result"
    }
   ],
   "source": [
    "train = df[[\"emotion\", \"pixels\"]][df[\"Usage\"] == \"Training\"]\n",
    "train.isnull().sum()"
   ]
  },
  {
   "cell_type": "code",
   "execution_count": 7,
   "metadata": {},
   "outputs": [
    {
     "data": {
      "text/html": [
       "<div>\n",
       "<style scoped>\n",
       "    .dataframe tbody tr th:only-of-type {\n",
       "        vertical-align: middle;\n",
       "    }\n",
       "\n",
       "    .dataframe tbody tr th {\n",
       "        vertical-align: top;\n",
       "    }\n",
       "\n",
       "    .dataframe thead th {\n",
       "        text-align: right;\n",
       "    }\n",
       "</style>\n",
       "<table border=\"1\" class=\"dataframe\">\n",
       "  <thead>\n",
       "    <tr style=\"text-align: right;\">\n",
       "      <th></th>\n",
       "      <th>emotion</th>\n",
       "      <th>pixels</th>\n",
       "    </tr>\n",
       "  </thead>\n",
       "  <tbody>\n",
       "    <tr>\n",
       "      <th>0</th>\n",
       "      <td>0</td>\n",
       "      <td>[70.0, 80.0, 82.0, 72.0, 58.0, 58.0, 60.0, 63....</td>\n",
       "    </tr>\n",
       "    <tr>\n",
       "      <th>1</th>\n",
       "      <td>0</td>\n",
       "      <td>[151.0, 150.0, 147.0, 155.0, 148.0, 133.0, 111...</td>\n",
       "    </tr>\n",
       "    <tr>\n",
       "      <th>2</th>\n",
       "      <td>2</td>\n",
       "      <td>[231.0, 212.0, 156.0, 164.0, 174.0, 138.0, 161...</td>\n",
       "    </tr>\n",
       "    <tr>\n",
       "      <th>3</th>\n",
       "      <td>4</td>\n",
       "      <td>[24.0, 32.0, 36.0, 30.0, 32.0, 23.0, 19.0, 20....</td>\n",
       "    </tr>\n",
       "    <tr>\n",
       "      <th>4</th>\n",
       "      <td>6</td>\n",
       "      <td>[4.0, 0.0, 0.0, 0.0, 0.0, 0.0, 0.0, 0.0, 0.0, ...</td>\n",
       "    </tr>\n",
       "  </tbody>\n",
       "</table>\n",
       "</div>"
      ],
      "text/plain": [
       "   emotion                                             pixels\n",
       "0        0  [70.0, 80.0, 82.0, 72.0, 58.0, 58.0, 60.0, 63....\n",
       "1        0  [151.0, 150.0, 147.0, 155.0, 148.0, 133.0, 111...\n",
       "2        2  [231.0, 212.0, 156.0, 164.0, 174.0, 138.0, 161...\n",
       "3        4  [24.0, 32.0, 36.0, 30.0, 32.0, 23.0, 19.0, 20....\n",
       "4        6  [4.0, 0.0, 0.0, 0.0, 0.0, 0.0, 0.0, 0.0, 0.0, ..."
      ]
     },
     "execution_count": 7,
     "metadata": {},
     "output_type": "execute_result"
    }
   ],
   "source": [
    "train['pixels'] = train['pixels'].apply(lambda im: np.fromstring(im, sep=' '))\n",
    "train.head()"
   ]
  },
  {
   "cell_type": "code",
   "execution_count": 8,
   "metadata": {},
   "outputs": [],
   "source": [
    "x_train = np.vstack(train['pixels'].values)"
   ]
  },
  {
   "cell_type": "code",
   "execution_count": 9,
   "metadata": {},
   "outputs": [
    {
     "data": {
      "text/plain": [
       "array([[ 70.,  80.,  82., ..., 106., 109.,  82.],\n",
       "       [151., 150., 147., ..., 193., 183., 184.],\n",
       "       [231., 212., 156., ...,  88., 110., 152.],\n",
       "       ...,\n",
       "       [ 74.,  81.,  87., ..., 188., 187., 187.],\n",
       "       [222., 227., 203., ..., 136., 136., 134.],\n",
       "       [195., 199., 205., ...,   6.,  15.,  38.]])"
      ]
     },
     "execution_count": 9,
     "metadata": {},
     "output_type": "execute_result"
    }
   ],
   "source": [
    "x_train"
   ]
  },
  {
   "cell_type": "code",
   "execution_count": 10,
   "metadata": {},
   "outputs": [
    {
     "data": {
      "text/plain": [
       "((28709, 2304), (28709,))"
      ]
     },
     "execution_count": 10,
     "metadata": {},
     "output_type": "execute_result"
    }
   ],
   "source": [
    "y_train = np.array(train[\"emotion\"])\n",
    "x_train.shape, y_train.shape"
   ]
  },
  {
   "cell_type": "code",
   "execution_count": 11,
   "metadata": {},
   "outputs": [],
   "source": [
    "public_test_df = df[[\"emotion\", \"pixels\"]][df[\"Usage\"]==\"PublicTest\"]\n",
    "private_test_df= df[[\"emotion\", \"pixels\"]][df[\"Usage\"] == \"PrivateTest\"]"
   ]
  },
  {
   "cell_type": "code",
   "execution_count": 12,
   "metadata": {},
   "outputs": [],
   "source": [
    "public_test_df[\"pixels\"] = public_test_df[\"pixels\"].apply(lambda im: np.fromstring(im, sep=' '))\n",
    "x_test = np.vstack(public_test_df[\"pixels\"].values)\n",
    "y_test = np.array(public_test_df[\"emotion\"])\n",
    "private_test_df[\"pixels\"] = private_test_df[\"pixels\"].apply(lambda im: np.fromstring(im, sep=' '))\n",
    "x_test_private = np.vstack(private_test_df[\"pixels\"].values)\n",
    "y_test_private = np.array(private_test_df[\"emotion\"])"
   ]
  },
  {
   "cell_type": "code",
   "execution_count": 13,
   "metadata": {},
   "outputs": [
    {
     "data": {
      "text/plain": [
       "((28709, 48, 48, 1), (3589, 48, 48, 1))"
      ]
     },
     "execution_count": 13,
     "metadata": {},
     "output_type": "execute_result"
    }
   ],
   "source": [
    "x_train = x_train.reshape(-1, 48, 48, 1)\n",
    "x_test = x_test.reshape(-1, 48, 48, 1)\n",
    "x_train.shape, x_test.shape"
   ]
  },
  {
   "cell_type": "code",
   "execution_count": null,
   "metadata": {},
   "outputs": [],
   "source": [
    "# x_train = np.dstack([x_train]*3)\n",
    "# x_test = np.dstack([x_test]*3)\n",
    "# x_train = x_train.reshape(-1, 48,48,3)\n",
    "# x_test= x_test.reshape (-1,48,48,3)\n",
    "\n"
   ]
  },
  {
   "cell_type": "code",
   "execution_count": null,
   "metadata": {},
   "outputs": [],
   "source": [
    "# from keras.applications.vgg16 import preprocess_input\n",
    "# # prepare the image for the VGG model\n",
    "# image = preprocess_input(x_test_private[0])"
   ]
  },
  {
   "cell_type": "code",
   "execution_count": null,
   "metadata": {},
   "outputs": [],
   "source": [
    "# len(image)"
   ]
  },
  {
   "cell_type": "code",
   "execution_count": null,
   "metadata": {},
   "outputs": [],
   "source": [
    "# x_train.shape\n",
    "# model_vgg16_conv = VGG16(weights='imagenet', include_top=False,input_shape=(48,48,3))"
   ]
  },
  {
   "cell_type": "code",
   "execution_count": 14,
   "metadata": {},
   "outputs": [
    {
     "name": "stdout",
     "output_type": "stream",
     "text": [
      "_________________________________________________________________\n",
      "Layer (type)                 Output Shape              Param #   \n",
      "=================================================================\n",
      "input_1 (InputLayer)         (None, 46, 46, 3)         0         \n",
      "_________________________________________________________________\n",
      "block1_conv1 (Conv2D)        (None, 46, 46, 64)        1792      \n",
      "_________________________________________________________________\n",
      "block1_conv2 (Conv2D)        (None, 46, 46, 64)        36928     \n",
      "_________________________________________________________________\n",
      "block1_pool (MaxPooling2D)   (None, 23, 23, 64)        0         \n",
      "_________________________________________________________________\n",
      "block2_conv1 (Conv2D)        (None, 23, 23, 128)       73856     \n",
      "_________________________________________________________________\n",
      "block2_conv2 (Conv2D)        (None, 23, 23, 128)       147584    \n",
      "_________________________________________________________________\n",
      "block2_pool (MaxPooling2D)   (None, 11, 11, 128)       0         \n",
      "_________________________________________________________________\n",
      "block3_conv1 (Conv2D)        (None, 11, 11, 256)       295168    \n",
      "_________________________________________________________________\n",
      "block3_conv2 (Conv2D)        (None, 11, 11, 256)       590080    \n",
      "_________________________________________________________________\n",
      "block3_conv3 (Conv2D)        (None, 11, 11, 256)       590080    \n",
      "_________________________________________________________________\n",
      "block3_pool (MaxPooling2D)   (None, 5, 5, 256)         0         \n",
      "_________________________________________________________________\n",
      "block4_conv1 (Conv2D)        (None, 5, 5, 512)         1180160   \n",
      "_________________________________________________________________\n",
      "block4_conv2 (Conv2D)        (None, 5, 5, 512)         2359808   \n",
      "_________________________________________________________________\n",
      "block4_conv3 (Conv2D)        (None, 5, 5, 512)         2359808   \n",
      "_________________________________________________________________\n",
      "block4_pool (MaxPooling2D)   (None, 2, 2, 512)         0         \n",
      "_________________________________________________________________\n",
      "block5_conv1 (Conv2D)        (None, 2, 2, 512)         2359808   \n",
      "_________________________________________________________________\n",
      "block5_conv2 (Conv2D)        (None, 2, 2, 512)         2359808   \n",
      "_________________________________________________________________\n",
      "block5_conv3 (Conv2D)        (None, 2, 2, 512)         2359808   \n",
      "_________________________________________________________________\n",
      "block5_pool (MaxPooling2D)   (None, 1, 1, 512)         0         \n",
      "=================================================================\n",
      "Total params: 14,714,688\n",
      "Trainable params: 14,714,688\n",
      "Non-trainable params: 0\n",
      "_________________________________________________________________\n"
     ]
    }
   ],
   "source": [
    "model_vgg16_conv = VGG16(weights='imagenet', include_top=False,input_shape=(46,46,3))\n",
    "model_vgg16_conv.summary()"
   ]
  },
  {
   "cell_type": "code",
   "execution_count": 21,
   "metadata": {},
   "outputs": [
    {
     "name": "stdout",
     "output_type": "stream",
     "text": [
      "(<keras.engine.input_layer.InputLayer object at 0x7f014c8a5690>, False)\n",
      "(<keras.layers.convolutional.Conv2D object at 0x7f01011e0a90>, False)\n",
      "(<keras.layers.convolutional.Conv2D object at 0x7f01011e0d10>, False)\n",
      "(<keras.layers.pooling.MaxPooling2D object at 0x7f01497dc810>, False)\n",
      "(<keras.layers.convolutional.Conv2D object at 0x7f01011e49d0>, False)\n",
      "(<keras.layers.convolutional.Conv2D object at 0x7f0100dae790>, False)\n",
      "(<keras.layers.pooling.MaxPooling2D object at 0x7f0100daef90>, False)\n",
      "(<keras.layers.convolutional.Conv2D object at 0x7f0100d40ad0>, False)\n",
      "(<keras.layers.convolutional.Conv2D object at 0x7f0100d6bc90>, False)\n",
      "(<keras.layers.convolutional.Conv2D object at 0x7f0100cfc490>, False)\n",
      "(<keras.layers.pooling.MaxPooling2D object at 0x7f0100d13650>, False)\n",
      "(<keras.layers.convolutional.Conv2D object at 0x7f0100d26790>, False)\n",
      "(<keras.layers.convolutional.Conv2D object at 0x7f0100cd1f50>, False)\n",
      "(<keras.layers.convolutional.Conv2D object at 0x7f0100ce1110>, False)\n",
      "(<keras.layers.pooling.MaxPooling2D object at 0x7f0100cf7250>, False)\n",
      "(<keras.layers.convolutional.Conv2D object at 0x7f0100c8abd0>, False)\n",
      "(<keras.layers.convolutional.Conv2D object at 0x7f0100c9b850>, False)\n",
      "(<keras.layers.convolutional.Conv2D object at 0x7f0100cb37d0>, False)\n",
      "(<keras.layers.pooling.MaxPooling2D object at 0x7f0100c48950>, False)\n"
     ]
    }
   ],
   "source": [
    "# model_vgg16_conv.add(model.add(Conv2D(3,(3,3),input_shape = (48,48,1),activation = 'relu')))\n",
    "for layer in model_vgg16_conv.layers[:]:\n",
    "    layer.trainable = False\n",
    "for layer in  model_vgg16_conv.layers:\n",
    "    print(layer, layer.trainable)"
   ]
  },
  {
   "cell_type": "code",
   "execution_count": 22,
   "metadata": {},
   "outputs": [
    {
     "name": "stdout",
     "output_type": "stream",
     "text": [
      "_________________________________________________________________\n",
      "Layer (type)                 Output Shape              Param #   \n",
      "=================================================================\n",
      "conv2d_2 (Conv2D)            (None, 46, 46, 3)         30        \n",
      "_________________________________________________________________\n",
      "vgg16 (Model)                (None, 1, 1, 512)         14714688  \n",
      "_________________________________________________________________\n",
      "flatten_2 (Flatten)          (None, 512)               0         \n",
      "_________________________________________________________________\n",
      "dense_4 (Dense)              (None, 256)               131328    \n",
      "_________________________________________________________________\n",
      "dropout_3 (Dropout)          (None, 256)               0         \n",
      "_________________________________________________________________\n",
      "dense_5 (Dense)              (None, 128)               32896     \n",
      "_________________________________________________________________\n",
      "dropout_4 (Dropout)          (None, 128)               0         \n",
      "_________________________________________________________________\n",
      "dense_6 (Dense)              (None, 7)                 903       \n",
      "=================================================================\n",
      "Total params: 14,879,845\n",
      "Trainable params: 165,157\n",
      "Non-trainable params: 14,714,688\n",
      "_________________________________________________________________\n"
     ]
    }
   ],
   "source": [
    "from keras import models\n",
    "from keras import layers\n",
    "from keras import optimizers\n",
    "from keras.layers.convolutional import Conv2D\n",
    "model = models.Sequential()\n",
    "model.add(Conv2D(3,(3,3),input_shape = (48,48,1),activation = 'relu'))\n",
    "model.add(model_vgg16_conv)\n",
    "model.add(layers.Flatten())\n",
    "model.add(layers.Dense(256,activation = 'relu',kernel_initializer = 'he_normal'))\n",
    "model.add(layers.Dropout(0.5))\n",
    "model.add(layers.Dense(128,activation='relu',kernel_initializer = 'he_normal'))\n",
    "model.add(layers.Dropout(0.5))\n",
    "model.add(layers.Dense(7,activation = 'softmax'))\n",
    "model.summary()"
   ]
  },
  {
   "cell_type": "code",
   "execution_count": null,
   "metadata": {},
   "outputs": [],
   "source": [
    "# train_datagen = ImageDataGenerator(\n",
    "#       rescale=1./255,\n",
    "#       rotation_range=20,\n",
    "#       width_shift_range=0.2,\n",
    "#       height_shift_range=0.2,\n",
    "#       horizontal_flip=True,\n",
    "#       fill_mode='nearest')\n",
    " \n",
    "# validation_datagen = ImageDataGenerator(rescale=1./255)\n",
    " \n",
    "# # Change the batchsize according to your system RAM\n",
    "# train_batchsize = 100\n",
    "# val_batchsize = 10\n",
    "# train_dir = \n",
    "# train_generator = train_datagen.flow_from_directory(\n",
    "#         train_dir,\n",
    "#         target_size=(image_size, image_size),\n",
    "#         batch_size=train_batchsize,\n",
    "#         class_mode='categorical')\n",
    " \n",
    "# validation_generator = validation_datagen.flow_from_directory(\n",
    "#         validation_dir,\n",
    "#         target_size=(image_size, image_size),\n",
    "#         batch_size=val_batchsize,\n",
    "#         class_mode='categorical',\n",
    "#         shuffle=False)"
   ]
  },
  {
   "cell_type": "code",
   "execution_count": null,
   "metadata": {},
   "outputs": [],
   "source": [
    "# my_model = Model(input = input1,output = x)"
   ]
  },
  {
   "cell_type": "code",
   "execution_count": null,
   "metadata": {},
   "outputs": [],
   "source": [
    "# model.summary()"
   ]
  },
  {
   "cell_type": "code",
   "execution_count": 15,
   "metadata": {},
   "outputs": [
    {
     "data": {
      "text/plain": [
       "((28709, 7), (3589, 7))"
      ]
     },
     "execution_count": 15,
     "metadata": {},
     "output_type": "execute_result"
    }
   ],
   "source": [
    "from keras.utils import np_utils\n",
    "y_train = np_utils.to_categorical(y_train)\n",
    "y_test = np_utils.to_categorical(y_test)\n",
    "y_train.shape, y_test.shape"
   ]
  },
  {
   "cell_type": "code",
   "execution_count": 24,
   "metadata": {},
   "outputs": [],
   "source": [
    "epochs = 10\n",
    "\n",
    "# run model\n",
    "model.compile(loss='categorical_crossentropy', optimizer='adam', metrics=['accuracy'])\n"
   ]
  },
  {
   "cell_type": "code",
   "execution_count": 16,
   "metadata": {},
   "outputs": [
    {
     "name": "stdout",
     "output_type": "stream",
     "text": [
      "CPU times: user 0 ns, sys: 0 ns, total: 0 ns\n",
      "Wall time: 9.06 µs\n",
      "CPU times: user 0 ns, sys: 0 ns, total: 0 ns\n",
      "Wall time: 7.15 µs\n"
     ]
    }
   ],
   "source": [
    "%time\n",
    "type(model)\n",
    "%time\n"
   ]
  },
  {
   "cell_type": "code",
   "execution_count": 18,
   "metadata": {},
   "outputs": [
    {
     "name": "stdout",
     "output_type": "stream",
     "text": [
      "Train on 28709 samples, validate on 3589 samples\n",
      "Epoch 1/20\n",
      " - 1523s - loss: 1.6047 - acc: 0.3718 - val_loss: 1.5959 - val_acc: 0.3759\n",
      "Epoch 2/20\n",
      " - 1490s - loss: 1.5922 - acc: 0.3771 - val_loss: 1.5982 - val_acc: 0.3711\n",
      "Epoch 3/20\n",
      " - 1491s - loss: 1.5845 - acc: 0.3806 - val_loss: 1.6018 - val_acc: 0.3795\n",
      "Epoch 4/20\n",
      " - 1489s - loss: 1.5671 - acc: 0.3888 - val_loss: 1.6073 - val_acc: 0.3709\n",
      "Epoch 5/20\n",
      " - 1490s - loss: 1.5584 - acc: 0.3930 - val_loss: 1.5821 - val_acc: 0.3926\n",
      "Epoch 6/20\n",
      " - 1490s - loss: 1.5470 - acc: 0.3988 - val_loss: 1.5800 - val_acc: 0.3901\n",
      "Epoch 7/20\n",
      " - 1490s - loss: 1.5340 - acc: 0.4057 - val_loss: 1.5835 - val_acc: 0.3853\n",
      "Epoch 8/20\n",
      " - 1490s - loss: 1.5179 - acc: 0.4136 - val_loss: 1.5825 - val_acc: 0.3920\n",
      "Epoch 9/20\n",
      " - 1490s - loss: 1.5110 - acc: 0.4172 - val_loss: 1.5796 - val_acc: 0.3904\n",
      "Epoch 10/20\n",
      " - 1491s - loss: 1.4966 - acc: 0.4202 - val_loss: 1.5761 - val_acc: 0.3892\n",
      "Epoch 11/20\n",
      " - 1490s - loss: 1.4855 - acc: 0.4252 - val_loss: 1.5779 - val_acc: 0.3926\n",
      "Epoch 12/20\n",
      " - 1490s - loss: 1.4728 - acc: 0.4264 - val_loss: 1.5808 - val_acc: 0.3887\n",
      "Epoch 13/20\n",
      " - 1490s - loss: 1.4606 - acc: 0.4386 - val_loss: 1.5721 - val_acc: 0.3920\n",
      "Epoch 14/20\n",
      " - 1489s - loss: 1.4500 - acc: 0.4411 - val_loss: 1.5693 - val_acc: 0.4029\n",
      "Epoch 15/20\n",
      " - 1490s - loss: 1.4432 - acc: 0.4441 - val_loss: 1.5776 - val_acc: 0.4037\n",
      "Epoch 16/20\n",
      " - 1490s - loss: 1.4357 - acc: 0.4459 - val_loss: 1.5760 - val_acc: 0.3970\n",
      "Epoch 17/20\n",
      " - 1490s - loss: 1.4222 - acc: 0.4553 - val_loss: 1.5755 - val_acc: 0.3982\n",
      "Epoch 18/20\n",
      " - 1490s - loss: 1.4167 - acc: 0.4555 - val_loss: 1.5808 - val_acc: 0.3970\n",
      "Epoch 19/20\n",
      " - 1489s - loss: 1.4007 - acc: 0.4620 - val_loss: 1.5775 - val_acc: 0.4037\n",
      "Epoch 20/20\n",
      " - 1490s - loss: 1.3871 - acc: 0.4674 - val_loss: 1.5847 - val_acc: 0.4043\n",
      "CPU times: user 0 ns, sys: 0 ns, total: 0 ns\n",
      "Wall time: 14.5 ms\n"
     ]
    }
   ],
   "source": [
    "model = load_model('/home/akib/weights.h5')\n",
    "hist = model.fit(x_train, y_train, epochs=20,\n",
    "                 shuffle=True,\n",
    "                 batch_size=100, validation_data=(x_test, y_test),\n",
    "                  verbose=2)\n",
    "model.save('weights.h5')\n",
    "%time"
   ]
  },
  {
   "cell_type": "code",
   "execution_count": null,
   "metadata": {},
   "outputs": [],
   "source": [
    "# from keras.applications.vgg16 import preprocess_input\n",
    "# # prepare the image for the VGG model\n",
    "# image = preprocess_input(x_test_private[1])\n",
    "# test = x_test_private[5]\n",
    "# test = np.dstack([test]*3)\n",
    "# test = test.reshape(-1,48,48,3)"
   ]
  },
  {
   "cell_type": "code",
   "execution_count": 19,
   "metadata": {},
   "outputs": [],
   "source": [
    "y_test_private = np_utils.to_categorical(y_test_private)\n",
    "# x_test_private = np.dstack([x_test_private]*3)\n",
    "# x_test_private = x_test_private.reshape(-1,48,48,3)"
   ]
  },
  {
   "cell_type": "code",
   "execution_count": 20,
   "metadata": {},
   "outputs": [],
   "source": [
    "x_test_private = x_test_private.reshape(-1,48,48,1)"
   ]
  },
  {
   "cell_type": "code",
   "execution_count": null,
   "metadata": {},
   "outputs": [],
   "source": []
  },
  {
   "cell_type": "code",
   "execution_count": 21,
   "metadata": {},
   "outputs": [
    {
     "name": "stdout",
     "output_type": "stream",
     "text": [
      "59.43159654416822\n"
     ]
    }
   ],
   "source": [
    "scores=model.evaluate(x_test_private,y_test_private,verbose=0)\n",
    "print(100-scores[1]*100)"
   ]
  },
  {
   "cell_type": "code",
   "execution_count": 22,
   "metadata": {},
   "outputs": [
    {
     "data": {
      "text/plain": [
       "1.5453918570760035"
      ]
     },
     "execution_count": 22,
     "metadata": {},
     "output_type": "execute_result"
    }
   ],
   "source": [
    "scores[0]"
   ]
  },
  {
   "cell_type": "code",
   "execution_count": 23,
   "metadata": {},
   "outputs": [
    {
     "data": {
      "text/plain": [
       "0.40568403455831775"
      ]
     },
     "execution_count": 23,
     "metadata": {},
     "output_type": "execute_result"
    }
   ],
   "source": [
    "scores[1]"
   ]
  },
  {
   "cell_type": "code",
   "execution_count": 24,
   "metadata": {},
   "outputs": [],
   "source": [
    "# 0=Angry, 1=Disgust, 2=Fear, 3=Happy, 4=Sad, 5=Surprise, 6=Neutral\n",
    "dic = {0:'Angry',1:'Disgust',2:'Fear',3:'Happy',4:'Sad',5:'Surprise',6:'Neutral'}"
   ]
  },
  {
   "cell_type": "code",
   "execution_count": 25,
   "metadata": {},
   "outputs": [],
   "source": [
    "x_test_private[0] = x_test_private[0].reshape(1,48,48,1)"
   ]
  },
  {
   "cell_type": "code",
   "execution_count": 26,
   "metadata": {},
   "outputs": [
    {
     "data": {
      "text/plain": [
       "(48, 48, 1)"
      ]
     },
     "execution_count": 26,
     "metadata": {},
     "output_type": "execute_result"
    }
   ],
   "source": [
    "x_test_private[0].shape"
   ]
  },
  {
   "cell_type": "code",
   "execution_count": 27,
   "metadata": {},
   "outputs": [
    {
     "data": {
      "text/plain": [
       "array([0., 0., 0., 1., 0., 0., 0.], dtype=float32)"
      ]
     },
     "execution_count": 27,
     "metadata": {},
     "output_type": "execute_result"
    }
   ],
   "source": [
    "y_test_private[11]"
   ]
  },
  {
   "cell_type": "code",
   "execution_count": 29,
   "metadata": {},
   "outputs": [
    {
     "data": {
      "text/html": [
       "<div>\n",
       "<style scoped>\n",
       "    .dataframe tbody tr th:only-of-type {\n",
       "        vertical-align: middle;\n",
       "    }\n",
       "\n",
       "    .dataframe tbody tr th {\n",
       "        vertical-align: top;\n",
       "    }\n",
       "\n",
       "    .dataframe thead th {\n",
       "        text-align: right;\n",
       "    }\n",
       "</style>\n",
       "<table border=\"1\" class=\"dataframe\">\n",
       "  <thead>\n",
       "    <tr style=\"text-align: right;\">\n",
       "      <th></th>\n",
       "      <th>emotion</th>\n",
       "      <th>pixels</th>\n",
       "      <th>Usage</th>\n",
       "    </tr>\n",
       "  </thead>\n",
       "  <tbody>\n",
       "    <tr>\n",
       "      <th>0</th>\n",
       "      <td>0</td>\n",
       "      <td>70 80 82 72 58 58 60 63 54 58 60 48 89 115 121...</td>\n",
       "      <td>Training</td>\n",
       "    </tr>\n",
       "    <tr>\n",
       "      <th>1</th>\n",
       "      <td>0</td>\n",
       "      <td>151 150 147 155 148 133 111 140 170 174 182 15...</td>\n",
       "      <td>Training</td>\n",
       "    </tr>\n",
       "    <tr>\n",
       "      <th>2</th>\n",
       "      <td>2</td>\n",
       "      <td>231 212 156 164 174 138 161 173 182 200 106 38...</td>\n",
       "      <td>Training</td>\n",
       "    </tr>\n",
       "    <tr>\n",
       "      <th>3</th>\n",
       "      <td>4</td>\n",
       "      <td>24 32 36 30 32 23 19 20 30 41 21 22 32 34 21 1...</td>\n",
       "      <td>Training</td>\n",
       "    </tr>\n",
       "    <tr>\n",
       "      <th>4</th>\n",
       "      <td>6</td>\n",
       "      <td>4 0 0 0 0 0 0 0 0 0 0 0 3 15 23 28 48 50 58 84...</td>\n",
       "      <td>Training</td>\n",
       "    </tr>\n",
       "  </tbody>\n",
       "</table>\n",
       "</div>"
      ],
      "text/plain": [
       "   emotion                                             pixels     Usage\n",
       "0        0  70 80 82 72 58 58 60 63 54 58 60 48 89 115 121...  Training\n",
       "1        0  151 150 147 155 148 133 111 140 170 174 182 15...  Training\n",
       "2        2  231 212 156 164 174 138 161 173 182 200 106 38...  Training\n",
       "3        4  24 32 36 30 32 23 19 20 30 41 21 22 32 34 21 1...  Training\n",
       "4        6  4 0 0 0 0 0 0 0 0 0 0 0 3 15 23 28 48 50 58 84...  Training"
      ]
     },
     "execution_count": 29,
     "metadata": {},
     "output_type": "execute_result"
    }
   ],
   "source": [
    "\n",
    "df1 = pd.read_csv(\"/media/akib/New Volume1/project/fer2013/fer2013.csv\")\n",
    "df1.head()"
   ]
  },
  {
   "cell_type": "code",
   "execution_count": 30,
   "metadata": {},
   "outputs": [],
   "source": [
    "private_test_df= df1[[\"emotion\", \"pixels\"]][df1[\"Usage\"] == \"PrivateTest\"]\n",
    "private_test_df[\"pixels\"] = private_test_df[\"pixels\"].apply(lambda im: np.fromstring(im, sep=' '))\n",
    "x_test_private = np.vstack(private_test_df[\"pixels\"].values)\n",
    "y_test_private = np.array(private_test_df[\"emotion\"])"
   ]
  },
  {
   "cell_type": "code",
   "execution_count": 31,
   "metadata": {},
   "outputs": [],
   "source": [
    "x_test_private = x_test_private.reshape(-1,48,48,1)"
   ]
  },
  {
   "cell_type": "code",
   "execution_count": 32,
   "metadata": {},
   "outputs": [],
   "source": [
    "test_private1 = df1[[\"emotion\", \"pixels\"]][df1[\"Usage\"] == \"PrivateTest\"]\n",
    "# train.isnull().sum()"
   ]
  },
  {
   "cell_type": "code",
   "execution_count": 33,
   "metadata": {},
   "outputs": [],
   "source": [
    "test_private1[\"pixels\"] = test_private1[\"pixels\"].apply(lambda im: np.fromstring(im, sep=' '))\n",
    "xtest = np.vstack(test_private1[\"pixels\"].values)\n",
    "ytest = np.array(test_private1[\"emotion\"])\n"
   ]
  },
  {
   "cell_type": "code",
   "execution_count": 46,
   "metadata": {},
   "outputs": [],
   "source": [
    "dic = {0:'Angry',1:'Disgust',2:'Fear',3:'Happy',4:'Sad',5:'Surprise',6:'Neutral'}\n",
    "from keras.models import load_model\n",
    "\n",
    "model = load_model('/home/akib/weights.h5')"
   ]
  },
  {
   "cell_type": "code",
   "execution_count": 92,
   "metadata": {},
   "outputs": [
    {
     "data": {
      "image/png": "[encoded data removed]",
      "text/plain": [
       "<matplotlib.figure.Figure at 0x7fc931677b50>"
      ]
     },
     "metadata": {},
     "output_type": "display_data"
    }
   ],
   "source": [
    "numb=115\n",
    "tod = xtest[numb].reshape(48,48)\n",
    "\n",
    "%matplotlib inline\n",
    "from matplotlib import pyplot as plt\n",
    "plt.imshow(tod, interpolation='nearest')\n",
    "plt.show()"
   ]
  },
  {
   "cell_type": "code",
   "execution_count": 93,
   "metadata": {},
   "outputs": [
    {
     "data": {
      "text/plain": [
       "'Happy'"
      ]
     },
     "execution_count": 93,
     "metadata": {},
     "output_type": "execute_result"
    }
   ],
   "source": [
    "dic[ytest[numb]]"
   ]
  },
  {
   "cell_type": "code",
   "execution_count": 94,
   "metadata": {},
   "outputs": [
    {
     "name": "stdout",
     "output_type": "stream",
     "text": [
      "(12.49268427491188, 'Angry')\n",
      "(1.5887923538684845, 'Disgust')\n",
      "(16.826993227005005, 'Fear')\n",
      "(10.104473680257797, 'Happy')\n",
      "(26.8909752368927, 'Sad')\n",
      "(3.587374836206436, 'Surprise')\n",
      "(28.508716821670532, 'Neutral')\n"
     ]
    }
   ],
   "source": [
    "x_test_privat = np.expand_dims(x_test_private[numb], axis=0)\n",
    "\n",
    "\n",
    "g=model.predict(x_test_privat)[0]\n",
    "\n",
    "for x in g:\n",
    "    print(x*100,dic[np.where(g==x)[0][0]])\n",
    "    "
   ]
  },
  {
   "cell_type": "code",
   "execution_count": 38,
   "metadata": {},
   "outputs": [
    {
     "data": {
      "text/plain": [
       "3    8989\n",
       "6    6198\n",
       "4    6077\n",
       "2    5121\n",
       "0    4953\n",
       "5    4002\n",
       "1     547\n",
       "Name: emotion, dtype: int64"
      ]
     },
     "execution_count": 38,
     "metadata": {},
     "output_type": "execute_result"
    }
   ],
   "source": [
    "df1['emotion'].value_counts()"
   ]
  },
  {
   "cell_type": "code",
   "execution_count": 14,
   "metadata": {},
   "outputs": [
    {
     "data": {
      "text/plain": [
       "pandas.core.frame.DataFrame"
      ]
     },
     "execution_count": 14,
     "metadata": {},
     "output_type": "execute_result"
    }
   ],
   "source": [
    "type(df1)"
   ]
  },
  {
   "cell_type": "code",
   "execution_count": 15,
   "metadata": {},
   "outputs": [
    {
     "data": {
      "text/plain": [
       "{0: 'Angry',\n",
       " 1: 'Disgust',\n",
       " 2: 'Fear',\n",
       " 3: 'Happy',\n",
       " 4: 'Sad',\n",
       " 5: 'Surprise',\n",
       " 6: 'Neutral'}"
      ]
     },
     "execution_count": 15,
     "metadata": {},
     "output_type": "execute_result"
    }
   ],
   "source": [
    "dic"
   ]
  },
  {
   "cell_type": "code",
   "execution_count": null,
   "metadata": {},
   "outputs": [],
   "source": []
  }
 ],
 "metadata": {
  "kernelspec": {
   "display_name": "Python 2",
   "language": "python",
   "name": "python2"
  },
  "language_info": {
   "codemirror_mode": {
    "name": "ipython",
    "version": 2
   },
   "file_extension": ".py",
   "mimetype": "text/x-python",
   "name": "python",
   "nbconvert_exporter": "python",
   "pygments_lexer": "ipython2",
   "version": "2.7.12"
  }
 },
 "nbformat": 4,
 "nbformat_minor": 2
}
